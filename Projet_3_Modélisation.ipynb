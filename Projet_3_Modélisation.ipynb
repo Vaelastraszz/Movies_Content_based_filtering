{
  "nbformat": 4,
  "nbformat_minor": 0,
  "metadata": {
    "kernelspec": {
      "display_name": "Python 3",
      "language": "python",
      "name": "python3"
    },
    "language_info": {
      "codemirror_mode": {
        "name": "ipython",
        "version": 3
      },
      "file_extension": ".py",
      "mimetype": "text/x-python",
      "name": "python",
      "nbconvert_exporter": "python",
      "pygments_lexer": "ipython3",
      "version": "3.6.8"
    },
    "varInspector": {
      "cols": {
        "lenName": 16,
        "lenType": 16,
        "lenVar": 40
      },
      "kernels_config": {
        "python": {
          "delete_cmd_postfix": "",
          "delete_cmd_prefix": "del ",
          "library": "var_list.py",
          "varRefreshCmd": "print(var_dic_list())"
        },
        "r": {
          "delete_cmd_postfix": ") ",
          "delete_cmd_prefix": "rm(",
          "library": "var_list.r",
          "varRefreshCmd": "cat(var_dic_list()) "
        }
      },
      "oldHeight": 175,
      "position": {
        "height": "40px",
        "left": "846px",
        "right": "20px",
        "top": "72px",
        "width": "424px"
      },
      "types_to_exclude": [
        "module",
        "function",
        "builtin_function_or_method",
        "instance",
        "_Feature"
      ],
      "varInspector_section_display": "none",
      "window_display": true
    },
    "colab": {
      "name": "Projet 3 Modélisation.ipynb",
      "provenance": [],
      "include_colab_link": true
    }
  },
  "cells": [
    {
      "cell_type": "markdown",
      "metadata": {
        "id": "view-in-github",
        "colab_type": "text"
      },
      "source": [
        "<a href=\"https://colab.research.google.com/github/Vaelastraszz/Movies_Content_based_filtering/blob/master/Projet_3_Mode%CC%81lisation.ipynb\" target=\"_parent\"><img src=\"https://colab.research.google.com/assets/colab-badge.svg\" alt=\"Open In Colab\"/></a>"
      ]
    },
    {
      "cell_type": "code",
      "metadata": {
        "id": "fDgypdYY-Pj9",
        "colab_type": "code",
        "colab": {}
      },
      "source": [
        "#all libraries import\n",
        "import sys\n",
        "import pandas as pd\n",
        "import matplotlib.pyplot as plt\n",
        "import plotly\n",
        "import numpy as np\n",
        "import seaborn as sns \n",
        "from sklearn import preprocessing\n",
        "from sklearn.decomposition import PCA\n",
        "from sklearn.preprocessing import MinMaxScaler\n",
        "from sklearn.neighbors import NearestNeighbors\n",
        "from sklearn.cluster import AgglomerativeClustering\n",
        "from sklearn import cluster, metrics\n",
        "from fuzzywuzzy import fuzz\n",
        "from fuzzywuzzy import process\n",
        "import pickle\n",
        "import requests"
      ],
      "execution_count": 0,
      "outputs": []
    },
    {
      "cell_type": "code",
      "metadata": {
        "id": "N2NEAo7h-PkD",
        "colab_type": "code",
        "colab": {}
      },
      "source": [
        "url=\"/Users/RomainLejeune/Desktop/Data Vizu/Movies_clean.csv\"\n",
        "df = pd.read_csv(url, sep='\\t' , encoding = 'utf8')"
      ],
      "execution_count": 0,
      "outputs": []
    },
    {
      "cell_type": "code",
      "metadata": {
        "scrolled": true,
        "id": "QQBafql2-PkG",
        "colab_type": "code",
        "colab": {}
      },
      "source": [
        "pd.options.display.max_columns = None\n",
        "df.head(30)"
      ],
      "execution_count": 0,
      "outputs": []
    },
    {
      "cell_type": "markdown",
      "metadata": {
        "id": "uU0dC1jR-PkN",
        "colab_type": "text"
      },
      "source": [
        "On va droper toute les features textuelles qui ne pourront pas être prises en compte dans notre modèle de recommandation"
      ]
    },
    {
      "cell_type": "code",
      "metadata": {
        "id": "sb_z5NfU-PkN",
        "colab_type": "code",
        "colab": {}
      },
      "source": [
        "col_text=['actor_1_facebook_likes','actor_1_name','actor_2_facebook_likes','actor_2_name',\n",
        "          'actor_3_facebook_likes','actor_3_name','content_rating','country','director_facebook_likes',\n",
        "         'director_name','genres','language','movie_title','num_critic_for_reviews','num_user_for_reviews']"
      ],
      "execution_count": 0,
      "outputs": []
    },
    {
      "cell_type": "code",
      "metadata": {
        "id": "M3aVgSxD-PkR",
        "colab_type": "code",
        "colab": {}
      },
      "source": [
        "dfm = df "
      ],
      "execution_count": 0,
      "outputs": []
    },
    {
      "cell_type": "code",
      "metadata": {
        "id": "TLFBWPeM-PkT",
        "colab_type": "code",
        "colab": {}
      },
      "source": [
        "dfm.drop(col_text, axis=1, inplace=True)"
      ],
      "execution_count": 0,
      "outputs": []
    },
    {
      "cell_type": "markdown",
      "metadata": {
        "id": "37jS_pbU-PkV",
        "colab_type": "text"
      },
      "source": [
        "Observation de la nouvelle frame sans features textuelles"
      ]
    },
    {
      "cell_type": "code",
      "metadata": {
        "id": "OOCJUxQi-PkX",
        "colab_type": "code",
        "colab": {},
        "outputId": "8e4d28a5-91cd-4731-8809-6ef4acfadbb7"
      },
      "source": [
        "dfm.head()"
      ],
      "execution_count": 0,
      "outputs": [
        {
          "output_type": "execute_result",
          "data": {
            "text/html": [
              "<div>\n",
              "<style scoped>\n",
              "    .dataframe tbody tr th:only-of-type {\n",
              "        vertical-align: middle;\n",
              "    }\n",
              "\n",
              "    .dataframe tbody tr th {\n",
              "        vertical-align: top;\n",
              "    }\n",
              "\n",
              "    .dataframe thead th {\n",
              "        text-align: right;\n",
              "    }\n",
              "</style>\n",
              "<table border=\"1\" class=\"dataframe\">\n",
              "  <thead>\n",
              "    <tr style=\"text-align: right;\">\n",
              "      <th></th>\n",
              "      <th>cast_total_facebook_likes</th>\n",
              "      <th>color</th>\n",
              "      <th>duration</th>\n",
              "      <th>imdb_score</th>\n",
              "      <th>num_voted_users</th>\n",
              "      <th>title_year</th>\n",
              "      <th>language_n</th>\n",
              "      <th>country_n</th>\n",
              "      <th>G</th>\n",
              "      <th>NC-17</th>\n",
              "      <th>PG</th>\n",
              "      <th>PG-13</th>\n",
              "      <th>R</th>\n",
              "      <th>TV-14</th>\n",
              "      <th>TV-G</th>\n",
              "      <th>TV-PG</th>\n",
              "      <th>director_name_n</th>\n",
              "      <th>actor_1_n</th>\n",
              "      <th>actor_2_n</th>\n",
              "      <th>actor_3_n</th>\n",
              "      <th>Action</th>\n",
              "      <th>Adventure</th>\n",
              "      <th>Animation</th>\n",
              "      <th>Biography</th>\n",
              "      <th>Comedy</th>\n",
              "      <th>Crime</th>\n",
              "      <th>Documentary</th>\n",
              "      <th>Drama</th>\n",
              "      <th>Family</th>\n",
              "      <th>Fantasy</th>\n",
              "      <th>Film-Noir</th>\n",
              "      <th>History</th>\n",
              "      <th>Horror</th>\n",
              "      <th>Music</th>\n",
              "      <th>Musical</th>\n",
              "      <th>Mystery</th>\n",
              "      <th>News</th>\n",
              "      <th>Romance</th>\n",
              "      <th>Sci-Fi</th>\n",
              "      <th>Sport</th>\n",
              "      <th>Thriller</th>\n",
              "      <th>War</th>\n",
              "      <th>Western</th>\n",
              "      <th>critics_ratio</th>\n",
              "    </tr>\n",
              "  </thead>\n",
              "  <tbody>\n",
              "    <tr>\n",
              "      <th>0</th>\n",
              "      <td>4834.0</td>\n",
              "      <td>1.0</td>\n",
              "      <td>178.0</td>\n",
              "      <td>7.9</td>\n",
              "      <td>886204</td>\n",
              "      <td>2009.0</td>\n",
              "      <td>4302.0</td>\n",
              "      <td>3498</td>\n",
              "      <td>0</td>\n",
              "      <td>0</td>\n",
              "      <td>0</td>\n",
              "      <td>1</td>\n",
              "      <td>0</td>\n",
              "      <td>0</td>\n",
              "      <td>0</td>\n",
              "      <td>0</td>\n",
              "      <td>7</td>\n",
              "      <td>7</td>\n",
              "      <td>6</td>\n",
              "      <td>6</td>\n",
              "      <td>1</td>\n",
              "      <td>1</td>\n",
              "      <td>0</td>\n",
              "      <td>0</td>\n",
              "      <td>0</td>\n",
              "      <td>0</td>\n",
              "      <td>0</td>\n",
              "      <td>0</td>\n",
              "      <td>0</td>\n",
              "      <td>1</td>\n",
              "      <td>0</td>\n",
              "      <td>0</td>\n",
              "      <td>0</td>\n",
              "      <td>0</td>\n",
              "      <td>0</td>\n",
              "      <td>0</td>\n",
              "      <td>0</td>\n",
              "      <td>0</td>\n",
              "      <td>1</td>\n",
              "      <td>0</td>\n",
              "      <td>0</td>\n",
              "      <td>0</td>\n",
              "      <td>0</td>\n",
              "      <td>0.236739</td>\n",
              "    </tr>\n",
              "    <tr>\n",
              "      <th>1</th>\n",
              "      <td>48350.0</td>\n",
              "      <td>1.0</td>\n",
              "      <td>169.0</td>\n",
              "      <td>7.1</td>\n",
              "      <td>471220</td>\n",
              "      <td>2007.0</td>\n",
              "      <td>4302.0</td>\n",
              "      <td>3498</td>\n",
              "      <td>0</td>\n",
              "      <td>0</td>\n",
              "      <td>0</td>\n",
              "      <td>1</td>\n",
              "      <td>0</td>\n",
              "      <td>0</td>\n",
              "      <td>0</td>\n",
              "      <td>0</td>\n",
              "      <td>7</td>\n",
              "      <td>36</td>\n",
              "      <td>11</td>\n",
              "      <td>6</td>\n",
              "      <td>1</td>\n",
              "      <td>1</td>\n",
              "      <td>0</td>\n",
              "      <td>0</td>\n",
              "      <td>0</td>\n",
              "      <td>0</td>\n",
              "      <td>0</td>\n",
              "      <td>0</td>\n",
              "      <td>0</td>\n",
              "      <td>1</td>\n",
              "      <td>0</td>\n",
              "      <td>0</td>\n",
              "      <td>0</td>\n",
              "      <td>0</td>\n",
              "      <td>0</td>\n",
              "      <td>0</td>\n",
              "      <td>0</td>\n",
              "      <td>0</td>\n",
              "      <td>0</td>\n",
              "      <td>0</td>\n",
              "      <td>0</td>\n",
              "      <td>0</td>\n",
              "      <td>0</td>\n",
              "      <td>0.243942</td>\n",
              "    </tr>\n",
              "    <tr>\n",
              "      <th>2</th>\n",
              "      <td>11700.0</td>\n",
              "      <td>1.0</td>\n",
              "      <td>148.0</td>\n",
              "      <td>6.8</td>\n",
              "      <td>275868</td>\n",
              "      <td>2015.0</td>\n",
              "      <td>4302.0</td>\n",
              "      <td>401</td>\n",
              "      <td>0</td>\n",
              "      <td>0</td>\n",
              "      <td>0</td>\n",
              "      <td>1</td>\n",
              "      <td>0</td>\n",
              "      <td>0</td>\n",
              "      <td>0</td>\n",
              "      <td>0</td>\n",
              "      <td>7</td>\n",
              "      <td>9</td>\n",
              "      <td>4</td>\n",
              "      <td>1</td>\n",
              "      <td>1</td>\n",
              "      <td>1</td>\n",
              "      <td>0</td>\n",
              "      <td>0</td>\n",
              "      <td>0</td>\n",
              "      <td>0</td>\n",
              "      <td>0</td>\n",
              "      <td>0</td>\n",
              "      <td>0</td>\n",
              "      <td>0</td>\n",
              "      <td>0</td>\n",
              "      <td>0</td>\n",
              "      <td>0</td>\n",
              "      <td>0</td>\n",
              "      <td>0</td>\n",
              "      <td>0</td>\n",
              "      <td>0</td>\n",
              "      <td>0</td>\n",
              "      <td>0</td>\n",
              "      <td>0</td>\n",
              "      <td>1</td>\n",
              "      <td>0</td>\n",
              "      <td>0</td>\n",
              "      <td>0.605634</td>\n",
              "    </tr>\n",
              "    <tr>\n",
              "      <th>3</th>\n",
              "      <td>106759.0</td>\n",
              "      <td>1.0</td>\n",
              "      <td>164.0</td>\n",
              "      <td>8.5</td>\n",
              "      <td>1144337</td>\n",
              "      <td>2012.0</td>\n",
              "      <td>4302.0</td>\n",
              "      <td>3498</td>\n",
              "      <td>0</td>\n",
              "      <td>0</td>\n",
              "      <td>0</td>\n",
              "      <td>1</td>\n",
              "      <td>0</td>\n",
              "      <td>0</td>\n",
              "      <td>0</td>\n",
              "      <td>0</td>\n",
              "      <td>8</td>\n",
              "      <td>12</td>\n",
              "      <td>27</td>\n",
              "      <td>18</td>\n",
              "      <td>1</td>\n",
              "      <td>0</td>\n",
              "      <td>0</td>\n",
              "      <td>0</td>\n",
              "      <td>0</td>\n",
              "      <td>0</td>\n",
              "      <td>0</td>\n",
              "      <td>0</td>\n",
              "      <td>0</td>\n",
              "      <td>0</td>\n",
              "      <td>0</td>\n",
              "      <td>0</td>\n",
              "      <td>0</td>\n",
              "      <td>0</td>\n",
              "      <td>0</td>\n",
              "      <td>0</td>\n",
              "      <td>0</td>\n",
              "      <td>0</td>\n",
              "      <td>0</td>\n",
              "      <td>0</td>\n",
              "      <td>1</td>\n",
              "      <td>0</td>\n",
              "      <td>0</td>\n",
              "      <td>0.301000</td>\n",
              "    </tr>\n",
              "    <tr>\n",
              "      <th>4</th>\n",
              "      <td>1873.0</td>\n",
              "      <td>1.0</td>\n",
              "      <td>132.0</td>\n",
              "      <td>6.6</td>\n",
              "      <td>212204</td>\n",
              "      <td>2012.0</td>\n",
              "      <td>4302.0</td>\n",
              "      <td>3498</td>\n",
              "      <td>0</td>\n",
              "      <td>0</td>\n",
              "      <td>0</td>\n",
              "      <td>1</td>\n",
              "      <td>0</td>\n",
              "      <td>0</td>\n",
              "      <td>0</td>\n",
              "      <td>0</td>\n",
              "      <td>3</td>\n",
              "      <td>5</td>\n",
              "      <td>9</td>\n",
              "      <td>2</td>\n",
              "      <td>1</td>\n",
              "      <td>1</td>\n",
              "      <td>0</td>\n",
              "      <td>0</td>\n",
              "      <td>0</td>\n",
              "      <td>0</td>\n",
              "      <td>0</td>\n",
              "      <td>0</td>\n",
              "      <td>0</td>\n",
              "      <td>0</td>\n",
              "      <td>0</td>\n",
              "      <td>0</td>\n",
              "      <td>0</td>\n",
              "      <td>0</td>\n",
              "      <td>0</td>\n",
              "      <td>0</td>\n",
              "      <td>0</td>\n",
              "      <td>0</td>\n",
              "      <td>1</td>\n",
              "      <td>0</td>\n",
              "      <td>0</td>\n",
              "      <td>0</td>\n",
              "      <td>0</td>\n",
              "      <td>0.626016</td>\n",
              "    </tr>\n",
              "  </tbody>\n",
              "</table>\n",
              "</div>"
            ],
            "text/plain": [
              "   cast_total_facebook_likes  color  duration  imdb_score  num_voted_users  \\\n",
              "0                     4834.0    1.0     178.0         7.9           886204   \n",
              "1                    48350.0    1.0     169.0         7.1           471220   \n",
              "2                    11700.0    1.0     148.0         6.8           275868   \n",
              "3                   106759.0    1.0     164.0         8.5          1144337   \n",
              "4                     1873.0    1.0     132.0         6.6           212204   \n",
              "\n",
              "   title_year  language_n  country_n  G  NC-17  PG  PG-13  R  TV-14  TV-G  \\\n",
              "0      2009.0      4302.0       3498  0      0   0      1  0      0     0   \n",
              "1      2007.0      4302.0       3498  0      0   0      1  0      0     0   \n",
              "2      2015.0      4302.0        401  0      0   0      1  0      0     0   \n",
              "3      2012.0      4302.0       3498  0      0   0      1  0      0     0   \n",
              "4      2012.0      4302.0       3498  0      0   0      1  0      0     0   \n",
              "\n",
              "   TV-PG  director_name_n  actor_1_n  actor_2_n  actor_3_n  Action  Adventure  \\\n",
              "0      0                7          7          6          6       1          1   \n",
              "1      0                7         36         11          6       1          1   \n",
              "2      0                7          9          4          1       1          1   \n",
              "3      0                8         12         27         18       1          0   \n",
              "4      0                3          5          9          2       1          1   \n",
              "\n",
              "   Animation  Biography  Comedy  Crime  Documentary  Drama  Family  Fantasy  \\\n",
              "0          0          0       0      0            0      0       0        1   \n",
              "1          0          0       0      0            0      0       0        1   \n",
              "2          0          0       0      0            0      0       0        0   \n",
              "3          0          0       0      0            0      0       0        0   \n",
              "4          0          0       0      0            0      0       0        0   \n",
              "\n",
              "   Film-Noir  History  Horror  Music  Musical  Mystery  News  Romance  Sci-Fi  \\\n",
              "0          0        0       0      0        0        0     0        0       1   \n",
              "1          0        0       0      0        0        0     0        0       0   \n",
              "2          0        0       0      0        0        0     0        0       0   \n",
              "3          0        0       0      0        0        0     0        0       0   \n",
              "4          0        0       0      0        0        0     0        0       1   \n",
              "\n",
              "   Sport  Thriller  War  Western  critics_ratio  \n",
              "0      0         0    0        0       0.236739  \n",
              "1      0         0    0        0       0.243942  \n",
              "2      0         1    0        0       0.605634  \n",
              "3      0         1    0        0       0.301000  \n",
              "4      0         0    0        0       0.626016  "
            ]
          },
          "metadata": {
            "tags": []
          },
          "execution_count": 7
        }
      ]
    },
    {
      "cell_type": "markdown",
      "metadata": {
        "id": "QK4cftxO-Pkb",
        "colab_type": "text"
      },
      "source": [
        "# Modélisation avec PCA et KNN"
      ]
    },
    {
      "cell_type": "markdown",
      "metadata": {
        "id": "Gr9pejFL-Pkc",
        "colab_type": "text"
      },
      "source": [
        "On va commencer par faire une PCA pour voir si cela fonctionne bien avec le modèle, on testera avec et sans réduction dimensionelle car notre somme de features n'est pas si élevée (44 en entrée)"
      ]
    },
    {
      "cell_type": "code",
      "metadata": {
        "id": "9u0FXyOV-Pkc",
        "colab_type": "code",
        "colab": {}
      },
      "source": [
        "dfm['duration']=dfm['duration'].fillna(dfm['duration'].mean())"
      ],
      "execution_count": 0,
      "outputs": []
    },
    {
      "cell_type": "markdown",
      "metadata": {
        "id": "ndXJ9oNQ-Pkf",
        "colab_type": "text"
      },
      "source": [
        "On va checker que le dataframe est bien rempli a 100%"
      ]
    },
    {
      "cell_type": "code",
      "metadata": {
        "id": "0s7MW1n2-Pkg",
        "colab_type": "code",
        "colab": {},
        "outputId": "9e532836-60f2-440d-dd06-f6c2f620612e"
      },
      "source": [
        "dfm.isnull().values.any()"
      ],
      "execution_count": 0,
      "outputs": [
        {
          "output_type": "execute_result",
          "data": {
            "text/plain": [
              "False"
            ]
          },
          "metadata": {
            "tags": []
          },
          "execution_count": 7
        }
      ]
    },
    {
      "cell_type": "code",
      "metadata": {
        "id": "j2YyoQ3t-Pki",
        "colab_type": "code",
        "colab": {}
      },
      "source": [
        "X = dfm.values"
      ],
      "execution_count": 0,
      "outputs": []
    },
    {
      "cell_type": "markdown",
      "metadata": {
        "id": "rtaIJsbt-Pkl",
        "colab_type": "text"
      },
      "source": [
        "On va normaliser l'ensemble de la matrice afin d'avoir une matrice symétrique et normalisée"
      ]
    },
    {
      "cell_type": "code",
      "metadata": {
        "id": "EFOeg1dO-Pkm",
        "colab_type": "code",
        "colab": {}
      },
      "source": [
        "std_scale = preprocessing.StandardScaler().fit(X)\n",
        "X_scaled = std_scale.transform(X)"
      ],
      "execution_count": 0,
      "outputs": []
    },
    {
      "cell_type": "markdown",
      "metadata": {
        "id": "jZwlMHRA-Pkp",
        "colab_type": "text"
      },
      "source": [
        "On va créer un graphique afin d'étudier le nombre de composantes optimales expliquant une portion suffisammenet élevée de la variance de notre jeu de données"
      ]
    },
    {
      "cell_type": "code",
      "metadata": {
        "id": "XSUqozBb-Pkq",
        "colab_type": "code",
        "colab": {},
        "outputId": "23f521e6-419a-4602-a754-52d15a50baa5"
      },
      "source": [
        "#Fitting the PCA algorithm with our Data\n",
        "pca = PCA().fit(X_scaled)\n",
        "\n",
        "#Plotting the Cumulative Summation of the Explained Variance\n",
        "plt.figure()\n",
        "plt.plot(np.cumsum(pca.explained_variance_ratio_))\n",
        "plt.xlabel('Number of Components')\n",
        "plt.ylabel('Variance Explained (%)') #for each component\n",
        "plt.title('Pulsar Dataset Explained Variance')\n",
        "plt.show()"
      ],
      "execution_count": 0,
      "outputs": [
        {
          "output_type": "display_data",
          "data": {
            "image/png": "[encoded data removed]",
            "text/plain": [
              "<Figure size 432x288 with 1 Axes>"
            ]
          },
          "metadata": {
            "tags": []
          }
        }
      ]
    },
    {
      "cell_type": "markdown",
      "metadata": {
        "id": "PjoAIJPd-Pkt",
        "colab_type": "text"
      },
      "source": [
        "On voit que pour 30 composantes on a un plutot bon rendu avec plus de 80% d'expliquation de la variance"
      ]
    },
    {
      "cell_type": "code",
      "metadata": {
        "id": "PbGaQSrV-Pku",
        "colab_type": "code",
        "colab": {},
        "outputId": "a4947d47-1b23-4624-f8b8-6651b1718854"
      },
      "source": [
        "from sklearn import decomposition\n",
        "\n",
        "pca = decomposition.PCA(n_components=30)\n",
        "pca.fit(X_scaled)"
      ],
      "execution_count": 0,
      "outputs": [
        {
          "output_type": "execute_result",
          "data": {
            "text/plain": [
              "PCA(copy=True, iterated_power='auto', n_components=30, random_state=None,\n",
              "  svd_solver='auto', tol=0.0, whiten=False)"
            ]
          },
          "metadata": {
            "tags": []
          },
          "execution_count": 11
        }
      ]
    },
    {
      "cell_type": "markdown",
      "metadata": {
        "id": "DTrSLiKN-Pkw",
        "colab_type": "text"
      },
      "source": [
        "Observation de la variance expliquée"
      ]
    },
    {
      "cell_type": "code",
      "metadata": {
        "id": "5viuatlY-Pkx",
        "colab_type": "code",
        "colab": {},
        "outputId": "c5c95512-a178-4e6b-f3ba-df03c9890220"
      },
      "source": [
        "print (pca.explained_variance_ratio_)\n",
        "print (pca.explained_variance_ratio_.sum())"
      ],
      "execution_count": 0,
      "outputs": [
        {
          "output_type": "stream",
          "text": [
            "[0.07682377 0.07410266 0.05833328 0.04848298 0.04065256 0.03904351\n",
            " 0.0303951  0.02999216 0.02884162 0.0280981  0.0272649  0.02495935\n",
            " 0.02422762 0.02401796 0.02357251 0.02312952 0.02277353 0.02217321\n",
            " 0.02159336 0.02107763 0.01997434 0.01981881 0.01903863 0.01876746\n",
            " 0.01767864 0.01736522 0.01612101 0.01502551 0.01473035 0.01384472]\n",
            "0.8619200056752088\n"
          ],
          "name": "stdout"
        }
      ]
    },
    {
      "cell_type": "markdown",
      "metadata": {
        "id": "_laD5Cz1-Pk0",
        "colab_type": "text"
      },
      "source": [
        "On va récupérer nos projections dans une matrice transformée afin de les réutiliser dans l'algo qu'on choisit :"
      ]
    },
    {
      "cell_type": "code",
      "metadata": {
        "id": "itAVbTMK-Pk1",
        "colab_type": "code",
        "colab": {}
      },
      "source": [
        "X_projected = pca.transform(X_scaled)"
      ],
      "execution_count": 0,
      "outputs": []
    },
    {
      "cell_type": "markdown",
      "metadata": {
        "id": "46tmUFnX-Pk3",
        "colab_type": "text"
      },
      "source": [
        "On va choisir KNN comme algorithme non supervisé et choisir les 6 proches plus voisins afin d'avoir les 5 plus proches films car X[0] de KNN sera le point choisi en entrée car la distance sera nulle "
      ]
    },
    {
      "cell_type": "code",
      "metadata": {
        "id": "Z1olr50x-Pk6",
        "colab_type": "code",
        "colab": {},
        "outputId": "97a28d38-c7e3-45f7-e9f9-263b8f9baf17"
      },
      "source": [
        "knn = NearestNeighbors(n_neighbors=16,p=1,metric='manhattan')\n",
        "knn.fit(X_projected)"
      ],
      "execution_count": 0,
      "outputs": [
        {
          "output_type": "execute_result",
          "data": {
            "text/plain": [
              "NearestNeighbors(algorithm='auto', leaf_size=30, metric='manhattan',\n",
              "         metric_params=None, n_jobs=1, n_neighbors=16, p=1, radius=1.0)"
            ]
          },
          "metadata": {
            "tags": []
          },
          "execution_count": 14
        }
      ]
    },
    {
      "cell_type": "code",
      "metadata": {
        "id": "2dIjceRd-Pk9",
        "colab_type": "code",
        "colab": {}
      },
      "source": [
        "Liste_voisins = knn.kneighbors(X_projected, return_distance=False)"
      ],
      "execution_count": 0,
      "outputs": []
    },
    {
      "cell_type": "markdown",
      "metadata": {
        "id": "UWnErO4b-PlB",
        "colab_type": "text"
      },
      "source": [
        "Création des fonctions permettant d'afficher ensuite la liste des recommandations de films, on fera un tri sur les choix selon la similitude entre les titres afin d'éviter une recommandation de trop de sequel et prequels"
      ]
    },
    {
      "cell_type": "code",
      "metadata": {
        "id": "E5WuoDA5-PlC",
        "colab_type": "code",
        "colab": {}
      },
      "source": [
        "def get_reco(id):\n",
        "    Liste_movies=[]\n",
        "    for i in range(1,16):        \n",
        "        Liste_movies.append(Liste_voisins[id,i])\n",
        "    return Liste_movies   \n",
        "   "
      ],
      "execution_count": 0,
      "outputs": []
    },
    {
      "cell_type": "code",
      "metadata": {
        "id": "IR3fMmqf-PlJ",
        "colab_type": "code",
        "colab": {}
      },
      "source": [
        "def Affichage(id):\n",
        "    print ('Recommandation pour le film {} avec KNN: '.format(df[\"movie_title\"].iloc[[id]].item()) )\n",
        "    Liste_f = get_reco(id)\n",
        "    counter=0\n",
        "    \n",
        "    for i in range(0,15):\n",
        "        \n",
        "        if fuzz.partial_ratio(df[\"movie_title\"].iloc[[id]].item(),df[\"movie_title\"].iloc[[Liste_f[i]]].item())<=70:\n",
        "            \n",
        "            print('Film {} recommandé: {}'.format(counter+1,df[\"movie_title\"].iloc[[Liste_f[i]]].item()) )\n",
        "            counter=counter+1\n",
        "            \n",
        "            if counter == 5:\n",
        "                 break\n",
        "    \n",
        "    return"
      ],
      "execution_count": 0,
      "outputs": []
    },
    {
      "cell_type": "markdown",
      "metadata": {
        "id": "NEctcgGb-PlM",
        "colab_type": "text"
      },
      "source": [
        "Affichage de la liste des recommandations selon l'id du film mis en entrée"
      ]
    },
    {
      "cell_type": "code",
      "metadata": {
        "id": "bg9o7mYu-PlM",
        "colab_type": "code",
        "colab": {},
        "outputId": "a8af9b53-a486-4af7-ffd7-bf8d1c84613a"
      },
      "source": [
        "Affichage(98)"
      ],
      "execution_count": 0,
      "outputs": [
        {
          "output_type": "stream",
          "text": [
            "Recommandation pour le film The Fast and the Furious  avec KNN: \n",
            "Film 1 recommandé: The Italian Job \n",
            "Film 2 recommandé: Premium Rush \n",
            "Film 3 recommandé: Survivor \n",
            "Film 4 recommandé: Taken 2 \n",
            "Film 5 recommandé: Transporter 2 \n"
          ],
          "name": "stdout"
        }
      ]
    },
    {
      "cell_type": "markdown",
      "metadata": {
        "id": "bbHip85E-PlP",
        "colab_type": "text"
      },
      "source": [
        "# Modélisation avec Clustering Hiérarchique de Ward"
      ]
    },
    {
      "cell_type": "code",
      "metadata": {
        "scrolled": false,
        "id": "Hpz6NK2p-PlQ",
        "colab_type": "code",
        "colab": {}
      },
      "source": [
        "import scipy.cluster.hierarchy as shc\n",
        "\n",
        "plt.figure(figsize=(250, 35))\n",
        "plt.title(\"Movies Dendograms\") \n",
        "dend = shc.dendrogram(shc.linkage(X_projected, method='ward'))  "
      ],
      "execution_count": 0,
      "outputs": []
    },
    {
      "cell_type": "markdown",
      "metadata": {
        "id": "Bas9CUV4-PlS",
        "colab_type": "text"
      },
      "source": [
        "En tracant une ligne entre les plus grandes distances du dendrogramme on compte a peu près 51 clusters on va tester ca maintenant avec le clustering hiérarchique."
      ]
    },
    {
      "cell_type": "code",
      "metadata": {
        "id": "jk6_RAvV-PlT",
        "colab_type": "code",
        "colab": {}
      },
      "source": [
        "cluster_agg = AgglomerativeClustering(n_clusters=84, affinity='euclidean', linkage='ward')  \n",
        "Liste_cluster=cluster_agg.fit_predict(X_projected) "
      ],
      "execution_count": 0,
      "outputs": []
    },
    {
      "cell_type": "code",
      "metadata": {
        "id": "ZRBEv95e-PlV",
        "colab_type": "code",
        "colab": {}
      },
      "source": [
        "def ClusterIndicesNumpy(clustNum, labels_array): #numpy \n",
        "    return np.where(labels_array == clustNum)[0]"
      ],
      "execution_count": 0,
      "outputs": []
    },
    {
      "cell_type": "markdown",
      "metadata": {
        "id": "PA7EndAo-PlX",
        "colab_type": "text"
      },
      "source": [
        "On a créeé une fonction permettant de récupérer le cluster que l'on veut"
      ]
    },
    {
      "cell_type": "code",
      "metadata": {
        "id": "C4psGPCH-PlY",
        "colab_type": "code",
        "colab": {},
        "outputId": "cbc2e75a-fc61-4aab-830b-758c0ae92ed4"
      },
      "source": [
        "ClusterIndicesNumpy(12,Liste_cluster)"
      ],
      "execution_count": 0,
      "outputs": [
        {
          "output_type": "execute_result",
          "data": {
            "text/plain": [
              "array([   0,    1,    9,   10,   12,   14,   17,   27,   28,   33,   35,\n",
              "         36,   38,   39,   43,   45,   47,   51,   52,   59,   61,   64,\n",
              "         74,   75,   76,   82,   85,  107,  110,  121,  165,  168,  173,\n",
              "        182,  198,  202,  211,  228,  229,  231,  232,  247,  333,  417,\n",
              "        424,  473,  480,  481,  504,  508,  584,  998, 1074, 1390, 1479,\n",
              "       1970, 2877])"
            ]
          },
          "metadata": {
            "tags": []
          },
          "execution_count": 29
        }
      ]
    },
    {
      "cell_type": "code",
      "metadata": {
        "id": "Jov8uyls-Pla",
        "colab_type": "code",
        "colab": {}
      },
      "source": [
        "def Affichage_Cluster(id):\n",
        "    print ('Recommandation pour le film {} avec Cluster-Ward:'.format(df[\"movie_title\"].iloc[[id]].item()) )\n",
        "    \n",
        "    cluster_id = Liste_cluster[id]\n",
        "    \n",
        "    for i in range(0,10):\n",
        "        \n",
        "        if ClusterIndicesNumpy(cluster_id,Liste_cluster)[i]!=id :\n",
        "            \n",
        "             print('Film {} recommandé: {}'.format(i+1,df[\"movie_title\"].iloc[[ClusterIndicesNumpy(cluster_id,Liste_cluster)[i]]].item()) )\n",
        "    \n",
        "    return"
      ],
      "execution_count": 0,
      "outputs": []
    },
    {
      "cell_type": "code",
      "metadata": {
        "id": "V022Yg1F-Ple",
        "colab_type": "code",
        "colab": {},
        "outputId": "9076cc39-c200-4c28-b25e-8135fb93394c"
      },
      "source": [
        "Affichage_Cluster(133)"
      ],
      "execution_count": 0,
      "outputs": [
        {
          "output_type": "stream",
          "text": [
            "Recommandation pour le film Mission: Impossible - Rogue Nation  avec Cluster-Ward:\n",
            "Film 1 recommandé: Spectre \n",
            "Film 2 recommandé: Quantum of Solace \n",
            "Film 3 recommandé: King Kong \n",
            "Film 4 recommandé: Skyfall \n",
            "Film 5 recommandé: The Legend of Tarzan \n",
            "Film 6 recommandé: Poseidon \n",
            "Film 7 recommandé: Hancock \n",
            "Film 9 recommandé: Mission: Impossible III \n",
            "Film 10 recommandé: Mission: Impossible - Ghost Protocol \n"
          ],
          "name": "stdout"
        }
      ]
    },
    {
      "cell_type": "code",
      "metadata": {
        "id": "IIa6i7vV-Pli",
        "colab_type": "code",
        "colab": {},
        "outputId": "7e4dc8b4-d70d-4b20-8abb-07130619a64e"
      },
      "source": [
        "df[df.movie_title==\"The Fast and the Furious\\xa0\"]"
      ],
      "execution_count": 0,
      "outputs": [
        {
          "output_type": "execute_result",
          "data": {
            "text/html": [
              "<div>\n",
              "<style scoped>\n",
              "    .dataframe tbody tr th:only-of-type {\n",
              "        vertical-align: middle;\n",
              "    }\n",
              "\n",
              "    .dataframe tbody tr th {\n",
              "        vertical-align: top;\n",
              "    }\n",
              "\n",
              "    .dataframe thead th {\n",
              "        text-align: right;\n",
              "    }\n",
              "</style>\n",
              "<table border=\"1\" class=\"dataframe\">\n",
              "  <thead>\n",
              "    <tr style=\"text-align: right;\">\n",
              "      <th></th>\n",
              "      <th>actor_1_facebook_likes</th>\n",
              "      <th>actor_1_name</th>\n",
              "      <th>actor_2_facebook_likes</th>\n",
              "      <th>actor_2_name</th>\n",
              "      <th>actor_3_facebook_likes</th>\n",
              "      <th>actor_3_name</th>\n",
              "      <th>cast_total_facebook_likes</th>\n",
              "      <th>color</th>\n",
              "      <th>content_rating</th>\n",
              "      <th>country</th>\n",
              "      <th>director_facebook_likes</th>\n",
              "      <th>director_name</th>\n",
              "      <th>duration</th>\n",
              "      <th>genres</th>\n",
              "      <th>imdb_score</th>\n",
              "      <th>language</th>\n",
              "      <th>movie_title</th>\n",
              "      <th>num_critic_for_reviews</th>\n",
              "      <th>num_user_for_reviews</th>\n",
              "      <th>num_voted_users</th>\n",
              "      <th>title_year</th>\n",
              "      <th>language_n</th>\n",
              "      <th>country_n</th>\n",
              "      <th>G</th>\n",
              "      <th>NC-17</th>\n",
              "      <th>PG</th>\n",
              "      <th>PG-13</th>\n",
              "      <th>R</th>\n",
              "      <th>TV-14</th>\n",
              "      <th>TV-G</th>\n",
              "      <th>TV-PG</th>\n",
              "      <th>director_name_n</th>\n",
              "      <th>actor_1_n</th>\n",
              "      <th>actor_2_n</th>\n",
              "      <th>actor_3_n</th>\n",
              "      <th>Action</th>\n",
              "      <th>Adventure</th>\n",
              "      <th>Animation</th>\n",
              "      <th>Biography</th>\n",
              "      <th>Comedy</th>\n",
              "      <th>Crime</th>\n",
              "      <th>Documentary</th>\n",
              "      <th>Drama</th>\n",
              "      <th>Family</th>\n",
              "      <th>Fantasy</th>\n",
              "      <th>Film-Noir</th>\n",
              "      <th>History</th>\n",
              "      <th>Horror</th>\n",
              "      <th>Music</th>\n",
              "      <th>Musical</th>\n",
              "      <th>Mystery</th>\n",
              "      <th>News</th>\n",
              "      <th>Romance</th>\n",
              "      <th>Sci-Fi</th>\n",
              "      <th>Sport</th>\n",
              "      <th>Thriller</th>\n",
              "      <th>War</th>\n",
              "      <th>Western</th>\n",
              "      <th>critics_ratio</th>\n",
              "    </tr>\n",
              "  </thead>\n",
              "  <tbody>\n",
              "    <tr>\n",
              "      <th>98</th>\n",
              "      <td>23000.0</td>\n",
              "      <td>Paul Walker</td>\n",
              "      <td>14000.0</td>\n",
              "      <td>Vin Diesel</td>\n",
              "      <td>4000.0</td>\n",
              "      <td>Jordana Brewster</td>\n",
              "      <td>45327.0</td>\n",
              "      <td>1.0</td>\n",
              "      <td>PG-13</td>\n",
              "      <td>USA</td>\n",
              "      <td>357.0</td>\n",
              "      <td>Rob Cohen</td>\n",
              "      <td>106.0</td>\n",
              "      <td>Action|Crime|Thriller</td>\n",
              "      <td>6.7</td>\n",
              "      <td>English</td>\n",
              "      <td>The Fast and the Furious</td>\n",
              "      <td>187.0</td>\n",
              "      <td>988.0</td>\n",
              "      <td>272223</td>\n",
              "      <td>2001.0</td>\n",
              "      <td>4302.0</td>\n",
              "      <td>3498</td>\n",
              "      <td>0</td>\n",
              "      <td>0</td>\n",
              "      <td>0</td>\n",
              "      <td>1</td>\n",
              "      <td>0</td>\n",
              "      <td>0</td>\n",
              "      <td>0</td>\n",
              "      <td>0</td>\n",
              "      <td>9</td>\n",
              "      <td>17</td>\n",
              "      <td>17</td>\n",
              "      <td>5</td>\n",
              "      <td>1</td>\n",
              "      <td>0</td>\n",
              "      <td>0</td>\n",
              "      <td>0</td>\n",
              "      <td>0</td>\n",
              "      <td>1</td>\n",
              "      <td>0</td>\n",
              "      <td>0</td>\n",
              "      <td>0</td>\n",
              "      <td>0</td>\n",
              "      <td>0</td>\n",
              "      <td>0</td>\n",
              "      <td>0</td>\n",
              "      <td>0</td>\n",
              "      <td>0</td>\n",
              "      <td>0</td>\n",
              "      <td>0</td>\n",
              "      <td>0</td>\n",
              "      <td>0</td>\n",
              "      <td>0</td>\n",
              "      <td>1</td>\n",
              "      <td>0</td>\n",
              "      <td>0</td>\n",
              "      <td>0.189271</td>\n",
              "    </tr>\n",
              "  </tbody>\n",
              "</table>\n",
              "</div>"
            ],
            "text/plain": [
              "    actor_1_facebook_likes actor_1_name  actor_2_facebook_likes actor_2_name  \\\n",
              "98                 23000.0  Paul Walker                 14000.0   Vin Diesel   \n",
              "\n",
              "    actor_3_facebook_likes      actor_3_name  cast_total_facebook_likes  \\\n",
              "98                  4000.0  Jordana Brewster                    45327.0   \n",
              "\n",
              "    color content_rating country  director_facebook_likes director_name  \\\n",
              "98    1.0          PG-13     USA                    357.0     Rob Cohen   \n",
              "\n",
              "    duration                 genres  imdb_score language  \\\n",
              "98     106.0  Action|Crime|Thriller         6.7  English   \n",
              "\n",
              "                  movie_title  num_critic_for_reviews  num_user_for_reviews  \\\n",
              "98  The Fast and the Furious                    187.0                 988.0   \n",
              "\n",
              "    num_voted_users  title_year  language_n  country_n  G  NC-17  PG  PG-13  \\\n",
              "98           272223      2001.0      4302.0       3498  0      0   0      1   \n",
              "\n",
              "    R  TV-14  TV-G  TV-PG  director_name_n  actor_1_n  actor_2_n  actor_3_n  \\\n",
              "98  0      0     0      0                9         17         17          5   \n",
              "\n",
              "    Action  Adventure  Animation  Biography  Comedy  Crime  Documentary  \\\n",
              "98       1          0          0          0       0      1            0   \n",
              "\n",
              "    Drama  Family  Fantasy  Film-Noir  History  Horror  Music  Musical  \\\n",
              "98      0       0        0          0        0       0      0        0   \n",
              "\n",
              "    Mystery  News  Romance  Sci-Fi  Sport  Thriller  War  Western  \\\n",
              "98        0     0        0       0      0         1    0        0   \n",
              "\n",
              "    critics_ratio  \n",
              "98       0.189271  "
            ]
          },
          "metadata": {
            "tags": []
          },
          "execution_count": 76
        }
      ]
    },
    {
      "cell_type": "markdown",
      "metadata": {
        "id": "YQjpdU8h-Plq",
        "colab_type": "text"
      },
      "source": [
        "# Modélisation avec Clustering Kmeans"
      ]
    },
    {
      "cell_type": "markdown",
      "metadata": {
        "id": "3WXi-OoZ-Plq",
        "colab_type": "text"
      },
      "source": [
        "On va choisir le meme nb de cluster que pour le clustering hiérarchique cad 84"
      ]
    },
    {
      "cell_type": "code",
      "metadata": {
        "id": "-luAqBC1-Pls",
        "colab_type": "code",
        "colab": {}
      },
      "source": [
        "cls=cluster.KMeans(n_clusters=84)\n",
        "Liste_cluster_KM=cls.fit_predict(X_projected)"
      ],
      "execution_count": 0,
      "outputs": []
    },
    {
      "cell_type": "code",
      "metadata": {
        "id": "BHLAhkiT-Plx",
        "colab_type": "code",
        "colab": {}
      },
      "source": [
        "def Affichage_Cluster_KM(id):\n",
        "    print ('Recommandation pour le film {} avec KMEANS:'.format(df[\"movie_title\"].iloc[[id]].item()) )\n",
        "    \n",
        "    cluster_id = Liste_cluster_KM[id]\n",
        "    \n",
        "    for i in range(0,10):\n",
        "        \n",
        "        if ClusterIndicesNumpy(cluster_id,Liste_cluster_KM)[i]!=id :\n",
        "            \n",
        "             print('Film {} recommandé: {}'.format(i+1,df[\"movie_title\"].iloc[[ClusterIndicesNumpy(cluster_id,Liste_cluster_KM)[i]]].item()) )\n",
        "    \n",
        "    return"
      ],
      "execution_count": 0,
      "outputs": []
    },
    {
      "cell_type": "code",
      "metadata": {
        "id": "smRa7MVW-Pl4",
        "colab_type": "code",
        "colab": {},
        "outputId": "4c534ec3-925b-465e-c2ff-0af173c9922c"
      },
      "source": [
        "Affichage_Cluster_KM(133)"
      ],
      "execution_count": 0,
      "outputs": [
        {
          "output_type": "stream",
          "text": [
            "Recommandation pour le film Mission: Impossible - Rogue Nation  avec KMEANS:\n",
            "Film 1 recommandé: Pirates of the Caribbean: At World's End \n",
            "Film 2 recommandé: Spectre \n",
            "Film 3 recommandé: Quantum of Solace \n",
            "Film 4 recommandé: Pirates of the Caribbean: Dead Man's Chest \n",
            "Film 5 recommandé: Pirates of the Caribbean: On Stranger Tides \n",
            "Film 6 recommandé: Men in Black 3 \n",
            "Film 7 recommandé: The Hobbit: The Battle of the Five Armies \n",
            "Film 8 recommandé: The Amazing Spider-Man \n",
            "Film 9 recommandé: The Hobbit: The Desolation of Smaug \n",
            "Film 10 recommandé: King Kong \n"
          ],
          "name": "stdout"
        }
      ]
    },
    {
      "cell_type": "markdown",
      "metadata": {
        "id": "jbdkJ2hh-Pl8",
        "colab_type": "text"
      },
      "source": [
        "# Sérialisation d'un modèle en pkl et test server"
      ]
    },
    {
      "cell_type": "markdown",
      "metadata": {
        "id": "mBQCbZHb-Pl9",
        "colab_type": "text"
      },
      "source": [
        "Sauvegarde du modèle de KNN sur le disque dur"
      ]
    },
    {
      "cell_type": "code",
      "metadata": {
        "id": "5tmfGmbP-Pl-",
        "colab_type": "code",
        "colab": {}
      },
      "source": [
        "pickle.dump(knn, open('/Users/RomainLejeune/Downloads/concevez_un_site_avec_flask-P1C1/Projet 3/model.pkl','wb'))\n",
        "pickle.dump(X_projected, open('/Users/RomainLejeune/Downloads/concevez_un_site_avec_flask-P1C1/Projet 3/X_json.pkl','wb'))\n",
        "pickle.dump(df, open('/Users/RomainLejeune/Downloads/concevez_un_site_avec_flask-P1C1/Projet 3/df.pkl','wb'))"
      ],
      "execution_count": 0,
      "outputs": []
    },
    {
      "cell_type": "markdown",
      "metadata": {
        "id": "Hn7PC_e_-PmA",
        "colab_type": "text"
      },
      "source": [
        "Loading du modèle directement du disque"
      ]
    },
    {
      "cell_type": "code",
      "metadata": {
        "id": "NgJo5O5t-PmA",
        "colab_type": "code",
        "colab": {},
        "outputId": "027e7478-a411-435d-98ca-8a509474c253"
      },
      "source": [
        "#url = 'http://127.0.0.1:5000/api'\n",
        "url = 'http://romz2.pythonanywhere.com/api'\n",
        "\n",
        "r = requests.post(url,json={'id':1,})\n",
        "\n",
        "print(r.json())"
      ],
      "execution_count": 0,
      "outputs": [
        {
          "output_type": "stream",
          "text": [
            "['[20]: The Amazing Spider-Man', '[106]: Warcraft', '[205]: Clash of the Titans', '[313]: The Mummy Returns', '[832]: The Forbidden Kingdom']\n"
          ],
          "name": "stdout"
        }
      ]
    },
    {
      "cell_type": "markdown",
      "metadata": {
        "id": "iLqw8l9S-PmD",
        "colab_type": "text"
      },
      "source": [
        "# Phase de test des modèles sur plusieurs types de films"
      ]
    },
    {
      "cell_type": "code",
      "metadata": {
        "id": "f5CRuBqd-PmD",
        "colab_type": "code",
        "colab": {},
        "outputId": "441641ca-97c6-45e5-a7f4-17cfc37decbf"
      },
      "source": [
        "Affichage(113)\n",
        "print(\"\")\n",
        "Affichage_Cluster(113)\n",
        "print(\"\")\n",
        "Affichage_Cluster_KM(113)"
      ],
      "execution_count": 0,
      "outputs": [
        {
          "output_type": "stream",
          "text": [
            "Recommandation pour le film Harry Potter and the Goblet of Fire  avec KNN: \n",
            "Film 1 recommandé: The Imaginarium of Doctor Parnassus \n",
            "Film 2 recommandé: Harry Potter and the Half-Blood Prince \n",
            "Film 3 recommandé: Triangle \n",
            "Film 4 recommandé: The Hobbit: The Battle of the Five Armies \n",
            "Film 5 recommandé: Winter's Tale \n",
            "\n",
            "Recommandation pour le film Harry Potter and the Goblet of Fire  avec Cluster-Ward:\n",
            "Film 1 recommandé: Harry Potter and the Half-Blood Prince \n",
            "Film 2 recommandé: The Chronicles of Narnia: Prince Caspian \n",
            "Film 3 recommandé: Alice in Wonderland \n",
            "Film 4 recommandé: Oz the Great and Powerful \n",
            "Film 5 recommandé: A Christmas Carol \n",
            "Film 6 recommandé: The Chronicles of Narnia: The Lion, the Witch and the Wardrobe \n",
            "Film 7 recommandé: Hugo \n",
            "Film 8 recommandé: Evan Almighty \n",
            "Film 9 recommandé: Maleficent \n",
            "Film 10 recommandé: Alice Through the Looking Glass \n",
            "\n",
            "Recommandation pour le film Harry Potter and the Goblet of Fire  avec KMEANS:\n",
            "Film 1 recommandé: The Chronicles of Narnia: Prince Caspian \n",
            "Film 2 recommandé: The Golden Compass \n",
            "Film 3 recommandé: The Chronicles of Narnia: The Lion, the Witch and the Wardrobe \n",
            "Film 4 recommandé: Maleficent \n",
            "Film 5 recommandé: The Sorcerer's Apprentice \n",
            "Film 6 recommandé: Harry Potter and the Order of the Phoenix \n",
            "Film 8 recommandé: The BFG \n",
            "Film 9 recommandé: Harry Potter and the Sorcerer's Stone \n",
            "Film 10 recommandé: Life of Pi \n"
          ],
          "name": "stdout"
        }
      ]
    },
    {
      "cell_type": "code",
      "metadata": {
        "id": "dgMm4V16-PmF",
        "colab_type": "code",
        "colab": {}
      },
      "source": [
        ""
      ],
      "execution_count": 0,
      "outputs": []
    }
  ]
}